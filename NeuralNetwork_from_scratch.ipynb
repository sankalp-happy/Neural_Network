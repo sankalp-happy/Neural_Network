{
 "cells": [
  {
   "cell_type": "markdown",
   "source": [
    "# Creating a Neural Network From Scratch"
   ],
   "metadata": {
    "collapsed": false
   },
   "id": "5df2d5d47b3a9399"
  },
  {
   "cell_type": "markdown",
   "source": [
    "## Creating neurons and batches"
   ],
   "metadata": {
    "collapsed": false
   },
   "id": "2f5aa919e178ab2b"
  },
  {
   "cell_type": "code",
   "execution_count": 3,
   "id": "initial_id",
   "metadata": {
    "collapsed": true,
    "ExecuteTime": {
     "end_time": "2024-10-13T13:03:15.788577Z",
     "start_time": "2024-10-13T13:03:15.714430Z"
    }
   },
   "outputs": [
    {
     "name": "stdout",
     "output_type": "stream",
     "text": [
      "[[ 4.8    1.21   2.385]\n",
      " [13.4   -4.15  -1.33 ]\n",
      " [ 1.41   1.051  0.026]]\n"
     ]
    }
   ],
   "source": [
    "import numpy as np\n",
    "#Input is as batches of 4\n",
    "inputs = np.array([[1.0, 2.0, 3.0, 2.5], \n",
    "                   [2.0, 5.0, -10, 2.0],\n",
    "                   [-1.5, 2.7, 3.3, -0.8]])\n",
    "weights = [[0.2, 0.8, -0.5, 1.0],\n",
    "[0.5, -0.91, 0.26, -0.5],\n",
    "[-0.26, -0.27, 0.17, 0.87]]\n",
    "\n",
    "biases = [2.0, 3.0, 0.5]\n",
    "\n",
    "layer_out = np.dot(inputs, np.array(weights).T) + biases\n",
    "print(layer_out)"
   ]
  },
  {
   "cell_type": "markdown",
   "source": [
    "## Creating Dense Layers Using Multiple Neurons and Input Batches"
   ],
   "metadata": {
    "collapsed": false
   },
   "id": "bf9eb28a2f3b12da"
  },
  {
   "cell_type": "markdown",
   "source": [
    "To add a dense layer we need to take an input matrix, initialise a weight matrix according to the number of the in[uts and number of neurons.\n",
    "Here, we’re setting weights to be random and biases to be 0. Note that we’re initializing weights to be (inputs, neurons), rather than (neurons, inputs). We’re doing this ahead instead of transposing every time we perform a forward pass. Initially we are choosing our bias as 0."
   ],
   "metadata": {
    "collapsed": false
   },
   "id": "89e454360d8c7fa9"
  },
  {
   "cell_type": "code",
   "outputs": [],
   "source": [
    "import nnfs\n",
    "from nnfs.datasets import spiral_data\n",
    "\n",
    "class DenseLayer:\n",
    "    def __init__(self, n_inp, n_neurons):\n",
    "        self.weights = 0.01 * np.random.randn(n_inp, n_neurons)\n",
    "        self.bias = np.zeros((1, n_neurons))\n",
    "        \n",
    "    def forward_pass(self, inputs):\n",
    "        self.output = np.dot(inputs, self.weights) + self.bias\n",
    "        "
   ],
   "metadata": {
    "collapsed": false,
    "ExecuteTime": {
     "end_time": "2024-10-13T13:03:15.795266Z",
     "start_time": "2024-10-13T13:03:15.789583Z"
    }
   },
   "id": "493091fed65fe46b",
   "execution_count": 4
  },
  {
   "cell_type": "markdown",
   "source": [
    "## Adding necessary Activation Functions"
   ],
   "metadata": {
    "collapsed": false
   },
   "id": "e40701d162fcd8e7"
  },
  {
   "cell_type": "markdown",
   "source": [
    "### Rectified Linear Unit or ReLu Activation Function\n",
    "\n",
    "ReLu functions return the number itself if the number is positive or zero otherwise.\n",
    "The Graph of ReLu Function is given"
   ],
   "metadata": {
    "collapsed": false
   },
   "id": "2ec32793b6bdc521"
  },
  {
   "cell_type": "code",
   "outputs": [
    {
     "data": {
      "text/plain": "Text(0, 0.5, 'ReLu')"
     },
     "execution_count": 5,
     "metadata": {},
     "output_type": "execute_result"
    },
    {
     "data": {
      "text/plain": "<Figure size 640x480 with 1 Axes>",
      "image/png": "[encoded data removed]"
     },
     "metadata": {},
     "output_type": "display_data"
    }
   ],
   "source": [
    "import matplotlib.pyplot as plt\n",
    "\n",
    "X = np.linspace(-10, 10, 10000)\n",
    "Y = np.maximum(0, X)\n",
    "\n",
    "plt.plot(X, Y, label='ReLu')\n",
    "plt.grid()\n",
    "plt.legend()\n",
    "plt.xlabel('X')\n",
    "plt.ylabel('ReLu')"
   ],
   "metadata": {
    "collapsed": false,
    "ExecuteTime": {
     "end_time": "2024-10-13T13:03:16.155833Z",
     "start_time": "2024-10-13T13:03:15.795845Z"
    }
   },
   "id": "5dafeed86f8ba68d",
   "execution_count": 5
  },
  {
   "cell_type": "markdown",
   "source": [
    "### Implementing Relu"
   ],
   "metadata": {
    "collapsed": false
   },
   "id": "b4a1679a5c62f5f6"
  },
  {
   "cell_type": "code",
   "outputs": [
    {
     "name": "stdout",
     "output_type": "stream",
     "text": [
      "[[0.         0.         0.        ]\n",
      " [0.         0.00011395 0.        ]\n",
      " [0.         0.00031729 0.        ]\n",
      " [0.         0.00052666 0.        ]\n",
      " [0.         0.00071401 0.        ]]\n"
     ]
    }
   ],
   "source": [
    "\n",
    "\n",
    "nnfs.init()\n",
    "\n",
    "class ReLu_Activation:\n",
    "    def forward(self, inputs):\n",
    "        self.output = np.maximum(0, inputs)\n",
    "       \n",
    "       \n",
    "#Importing Dataset to Test. \n",
    "X, y = spiral_data(samples=100, classes=3)\n",
    "\n",
    "dense1 = DenseLayer(2, 3)\n",
    "\n",
    "activation1 = ReLu_Activation()\n",
    "\n",
    "dense1.forward_pass(X)\n",
    "\n",
    "activation1.forward(dense1.output)\n",
    "\n",
    "print(activation1.output[:5])"
   ],
   "metadata": {
    "collapsed": false,
    "ExecuteTime": {
     "end_time": "2024-10-13T13:03:16.180768Z",
     "start_time": "2024-10-13T13:03:16.157053Z"
    }
   },
   "id": "7251b1d5c5a69ca",
   "execution_count": 6
  },
  {
   "cell_type": "markdown",
   "source": [
    "### Softmax Activation\n",
    "\n",
    "In SoftMax Activation Function we first exponentiate the outputs ( E ^ output_values). and then take a given exponentiated value and divide it by the sum of all of the exponentiated values in the output. Since each output value normalizes to a fraction of the sum, all the values are now in the range of 0 to 1 and add up to 1 — they share the probability of 1 between themselves."
   ],
   "metadata": {
    "collapsed": false
   },
   "id": "a9f9e1e168407b1"
  },
  {
   "cell_type": "code",
   "outputs": [
    {
     "name": "stdout",
     "output_type": "stream",
     "text": [
      "[[0.33333334 0.33333334 0.33333334]\n",
      " [0.33333316 0.3333332  0.33333364]\n",
      " [0.33333287 0.3333329  0.33333418]\n",
      " [0.3333326  0.33333263 0.33333477]\n",
      " [0.33333233 0.3333324  0.33333528]]\n"
     ]
    }
   ],
   "source": [
    "class SoftMax_Activation:\n",
    "    def forward(self, inputs):\n",
    "        exp_val = np.exp(inputs - np.max(inputs, axis=1, keepdims=True))\n",
    "        # Here We are subtracting every value in input by the highest value in exp. This is to prevent the exponential function from overflowing\n",
    "        #It doesn’t take a very large number, in this case, a mere 1,000, to cause an overflow error.\n",
    "        self.output = exp_val / np.sum(exp_val, axis=1, keepdims=True)\n",
    "        \n",
    "#Testing on the previous data.\n",
    "\n",
    "dense2 = DenseLayer(3,3)\n",
    "activation2 = SoftMax_Activation()\n",
    "\n",
    "dense2.forward_pass(activation1.output)\n",
    "activation2.forward(dense2.output)\n",
    "\n",
    "print(activation2.output[:5])\n"
   ],
   "metadata": {
    "collapsed": false,
    "ExecuteTime": {
     "end_time": "2024-10-13T13:03:16.184072Z",
     "start_time": "2024-10-13T13:03:16.181333Z"
    }
   },
   "id": "29c413695856e373",
   "execution_count": 7
  },
  {
   "cell_type": "markdown",
   "source": [
    "## Adding Loss Function"
   ],
   "metadata": {
    "collapsed": false
   },
   "id": "53a5bc595896b6db"
  },
  {
   "cell_type": "code",
   "outputs": [],
   "source": [
    "#Crearting a common class Loss\n",
    "\n",
    "class Loss:\n",
    "    def calculate(self, output , y):\n",
    "        sample_loss = self.forward(output, y)\n",
    "        \n",
    "        data_loss = np.mean(sample_loss)\n",
    "        \n",
    "        return data_loss"
   ],
   "metadata": {
    "collapsed": false,
    "ExecuteTime": {
     "end_time": "2024-10-13T13:03:16.186599Z",
     "start_time": "2024-10-13T13:03:16.184813Z"
    }
   },
   "id": "a7bdf697e160d5f5",
   "execution_count": 8
  },
  {
   "cell_type": "markdown",
   "source": [
    "### Categorical Cross Entropy\n",
    " Used to Calculate loss in softmax outputs"
   ],
   "metadata": {
    "collapsed": false
   },
   "id": "8c7562fcf4378ddc"
  },
  {
   "cell_type": "code",
   "outputs": [],
   "source": [
    "class Loss_CategoricalCrossentropy(Loss):\n",
    "    \n",
    "    def forward(self, y_pred, y_true):\n",
    "        samples = len(y_pred)\n",
    "        \n",
    "        #For categorical Labelling\n",
    "        if len(y_true.shape) == 1:\n",
    "            correct_conf = y_pred[range(samples), y_true]\n",
    "        \n",
    "        #For one-hot Encoding\n",
    "        \n",
    "        if len(y_true.shape) == 2:\n",
    "            correct_conf = np.sum(y_pred * y_true, axis=1)\n",
    "            \n",
    "        negative_log_loss = -np.log(correct_conf)\n",
    "        return negative_log_loss\n",
    "        "
   ],
   "metadata": {
    "collapsed": false,
    "ExecuteTime": {
     "end_time": "2024-10-13T13:03:16.189166Z",
     "start_time": "2024-10-13T13:03:16.187171Z"
    }
   },
   "id": "53748de0b0d7e8a2",
   "execution_count": 9
  },
  {
   "cell_type": "markdown",
   "source": [
    "Testing the code"
   ],
   "metadata": {
    "collapsed": false
   },
   "id": "34f051fc6382c4b5"
  },
  {
   "cell_type": "code",
   "outputs": [
    {
     "name": "stdout",
     "output_type": "stream",
     "text": [
      "loss :  1.0986104\n"
     ]
    }
   ],
   "source": [
    "loss_func = Loss_CategoricalCrossentropy()\n",
    "\n",
    "loss = loss_func.calculate(activation2.output, y)\n",
    "\n",
    "print(\"loss : \", loss)"
   ],
   "metadata": {
    "collapsed": false,
    "ExecuteTime": {
     "end_time": "2024-10-13T13:08:26.761631Z",
     "start_time": "2024-10-13T13:08:26.754808Z"
    }
   },
   "id": "dad25677295e4b32",
   "execution_count": 18
  },
  {
   "cell_type": "markdown",
   "source": [
    "#### Calculating Accuracy of the model"
   ],
   "metadata": {
    "collapsed": false
   },
   "id": "fff8954bed4c4c12"
  },
  {
   "cell_type": "code",
   "outputs": [
    {
     "name": "stdout",
     "output_type": "stream",
     "text": [
      "Accuracy :  0.34\n"
     ]
    }
   ],
   "source": [
    "pred = np.argmax(activation2.output, axis=1)\n",
    "if len(y.shape) == 2:\n",
    "    y = np.argmax(y, axis=1)\n",
    "accuracy = np.mean(pred==y)\n",
    "print(\"Accuracy : \", accuracy)"
   ],
   "metadata": {
    "collapsed": false,
    "ExecuteTime": {
     "end_time": "2024-10-13T13:13:00.006173Z",
     "start_time": "2024-10-13T13:12:59.981783Z"
    }
   },
   "id": "3eaa5c9ee5c86bf4",
   "execution_count": 20
  },
  {
   "cell_type": "markdown",
   "source": [
    "## Backward Pass / Backpropagation"
   ],
   "metadata": {
    "collapsed": false
   },
   "id": "e55c436f2184e5cf"
  }
 ],
 "metadata": {
  "kernelspec": {
   "display_name": "Python 3",
   "language": "python",
   "name": "python3"
  },
  "language_info": {
   "codemirror_mode": {
    "name": "ipython",
    "version": 2
   },
   "file_extension": ".py",
   "mimetype": "text/x-python",
   "name": "python",
   "nbconvert_exporter": "python",
   "pygments_lexer": "ipython2",
   "version": "2.7.6"
  }
 },
 "nbformat": 4,
 "nbformat_minor": 5
}
